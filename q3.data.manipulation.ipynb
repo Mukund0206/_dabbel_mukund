{
 "cells": [
  {
   "cell_type": "markdown",
   "id": "e843df06",
   "metadata": {},
   "source": [
    "# Question 3 \n",
    "\n",
    "```\n",
    "\n",
    "data = [\n",
    "  { \"sensor_name\": \"temp_001\", \"status\": \"active\", \"value\": 20.5 },\n",
    "  { \"sensor_name\": \"hum_010\", \"status\": \"inactive\", \"value\": 80 },\n",
    "  { \"sensor_name\": \"Temp_002\", \"status\": \"inactive\", \"value\": 18.0 },\n",
    "  { \"sensor_name\": \"TEMP_005\", \"status\": \"active\", \"value\": 23.0 },\n",
    "  { \"sensor_name\": \"hum_011\", \"status\": \"active\", \"value\": 65 },\n",
    "  { \"sensor_name\": \"tEmP_009\", \"status\": \"active\", \"value\": -12.0 },\n",
    "  { \"sensor_name\": \"tEmP_029\", \"status\": \"inactive\", \"value\": 15.5 }\n",
    "]\n",
    "\n",
    "```\n",
    "\n",
    "Using the dataset described above, write code in Python to achieve the following use cases : \n",
    "\n",
    "1. Implement a function get_temperature_values(dataset :Dict) ->List that returns a list  of values from all active temperature sensors.\n",
    "\n",
    "2. Write a Python expression/statement to print the number of inactive temperature  sensors in the dataset.  \n",
    "\n",
    "3. Implement a function average_temperature_values that returns the average  temperature value using the function get_temperature_values implemented in step  1.  \n",
    "\n",
    "Note : Names of temperature sensors  ALWAYS contain \"temp\" regardless of whether the characters are uppercase or  lowercase. "
   ]
  },
  {
   "cell_type": "markdown",
   "id": "ed6916ec",
   "metadata": {},
   "source": [
    "<hr/>\n",
    "\n",
    "# Solution\n",
    "\n",
    "Note:   \n",
    "1. Functions can be used globaly (for any sensor_type and their distinct substring match and status irrespective of active or inactive)   \n",
    "2. Exceptions are not handled to keep the solution simple  \n",
    "\n",
    "\n",
    "<hr/>"
   ]
  },
  {
   "cell_type": "markdown",
   "id": "cbd34703",
   "metadata": {},
   "source": [
    "### Initialise workspace & data "
   ]
  },
  {
   "cell_type": "code",
   "execution_count": 1,
   "id": "66ab785a",
   "metadata": {},
   "outputs": [],
   "source": [
    "import random\n",
    "import pandas as pd\n",
    "random.seed(7) \n",
    "\n",
    "data = [\n",
    "  { \"sensor_name\": \"temp_001\", \"status\": \"active\", \"value\": 20.5 },\n",
    "  { \"sensor_name\": \"hum_010\", \"status\": \"inactive\", \"value\": 80 },\n",
    "  { \"sensor_name\": \"Temp_002\", \"status\": \"inactive\", \"value\": 18.0 },\n",
    "  { \"sensor_name\": \"TEMP_005\", \"status\": \"active\", \"value\": 23.0 },\n",
    "  { \"sensor_name\": \"hum_011\", \"status\": \"active\", \"value\": 65 },\n",
    "  { \"sensor_name\": \"tEmP_009\", \"status\": \"active\", \"value\": -12.0 },\n",
    "  { \"sensor_name\": \"tEmP_029\", \"status\": \"inactive\", \"value\": 15.5 }\n",
    "]\n"
   ]
  },
  {
   "cell_type": "markdown",
   "id": "2080cdf1",
   "metadata": {},
   "source": [
    "### 1. `get_temperature_values()`"
   ]
  },
  {
   "cell_type": "code",
   "execution_count": 2,
   "id": "9001a7e1",
   "metadata": {},
   "outputs": [
    {
     "data": {
      "text/plain": [
       "[20.5, 23.0, -12.0]"
      ]
     },
     "execution_count": 2,
     "metadata": {},
     "output_type": "execute_result"
    }
   ],
   "source": [
    "\n",
    "def get_temperature_values(data, sensor_name, value, substr, status):\n",
    "    \"\"\"\n",
    "    \n",
    "    get temperature values in list for selected sensor_type which are active\n",
    "\n",
    "    Arguments:\n",
    "    data -- dictionary\n",
    "    sensor_name -- key representing sensor type \n",
    "    value -- key representing temperature value for sensors\n",
    "    substr -- subtring to match sensor type ('temp' as substring for temperature sensors)\n",
    "    status -- status selected sensor => strict between \"inactive\" & \"active\"\n",
    "\n",
    "    Return:\n",
    "    vals -- list of all active sensor types \n",
    "    \n",
    "    \"\"\"\n",
    "    df = pd.DataFrame(data)\n",
    "    vals= list(df.loc[(df[sensor_name].str.contains(substr, na=False, case=False)) & (df[\"status\"]== status) ,value])\n",
    "    return vals \n",
    "\n",
    "get_temperature_values(data, \"sensor_name\",\"value\", \"temp\", \"active\")\n"
   ]
  },
  {
   "cell_type": "markdown",
   "id": "d1a2625c",
   "metadata": {},
   "source": [
    "### 2. Expression/statement to print the number of inactive temperature sensors"
   ]
  },
  {
   "cell_type": "code",
   "execution_count": 3,
   "id": "9799eefb",
   "metadata": {},
   "outputs": [
    {
     "name": "stdout",
     "output_type": "stream",
     "text": [
      "Total inactive temperature sensors: 2\n"
     ]
    }
   ],
   "source": [
    "df = pd.DataFrame(data)\n",
    "in_sens= df.loc[(df[\"sensor_name\"].str.contains(\"temp\", na=False, case=False)) & (df[\"status\"]== \"inactive\"),'sensor_name'].nunique()\n",
    "print(f'Total inactive temperature sensors: {in_sens}')\n"
   ]
  },
  {
   "cell_type": "markdown",
   "id": "903a66a8",
   "metadata": {},
   "source": [
    "### 3. `average_temperature_values()` using `get_temperature_values()`\n"
   ]
  },
  {
   "cell_type": "code",
   "execution_count": 5,
   "id": "0d8f9cc4",
   "metadata": {},
   "outputs": [
    {
     "name": "stdout",
     "output_type": "stream",
     "text": [
      "The average temperature of temp sensors: 10.5\n"
     ]
    }
   ],
   "source": [
    "def average_temperature_values(vals):\n",
    "    \"\"\"\n",
    "    \n",
    "    Takes any list of values to return mean\n",
    "\n",
    "    Arguments:\n",
    "    vals -- list of values \n",
    "\n",
    "    Return:\n",
    "    mean -- average of values in the list\n",
    "    \n",
    "    \"\"\"\n",
    "    return sum(vals) / len(vals) \n",
    "\n",
    "mean = average_temperature_values(get_temperature_values(data, \"sensor_name\",\"value\", \"temp\", \"active\"))\n",
    "print(f'The average temperature of temp sensors: {mean}')"
   ]
  },
  {
   "cell_type": "markdown",
   "id": "cdfc084c",
   "metadata": {},
   "source": [
    "#### <i>end of solution</i>"
   ]
  },
  {
   "cell_type": "markdown",
   "id": "5a1ea081",
   "metadata": {},
   "source": [
    "<hr />\n",
    "\n",
    "#### Appendix \n",
    "\n",
    "Filtering for dataframes return pd.dataFrame(...)\n",
    "```\n",
    "df.loc[ (df[\"sensor_name\"].str.contains(\"temp\", na=False, case=False)) & (df[\"status\"]== \"active\"),]\n",
    "```\n",
    "\n"
   ]
  }
 ],
 "metadata": {
  "kernelspec": {
   "display_name": "Python 3 (ipykernel)",
   "language": "python",
   "name": "python3"
  },
  "language_info": {
   "codemirror_mode": {
    "name": "ipython",
    "version": 3
   },
   "file_extension": ".py",
   "mimetype": "text/x-python",
   "name": "python",
   "nbconvert_exporter": "python",
   "pygments_lexer": "ipython3",
   "version": "3.9.7"
  }
 },
 "nbformat": 4,
 "nbformat_minor": 5
}
